{
 "cells": [
  {
   "cell_type": "code",
   "execution_count": 5,
   "source": [
    "f = open('monfichier.txt', encoding='utf8')"
   ],
   "outputs": [],
   "metadata": {}
  },
  {
   "cell_type": "code",
   "execution_count": 6,
   "source": [
    "lignes = f.read().splitlines()\r\n",
    "print(lignes)"
   ],
   "outputs": [
    {
     "output_type": "stream",
     "name": "stdout",
     "text": [
      "['Ligne 1', 'Ligne 2', 'Ligne 3', 'Ligne 4']\n"
     ]
    }
   ],
   "metadata": {}
  },
  {
   "cell_type": "code",
   "execution_count": 8,
   "source": [
    "f.close()"
   ],
   "outputs": [],
   "metadata": {}
  }
 ],
 "metadata": {
  "orig_nbformat": 4,
  "language_info": {
   "name": "python",
   "version": "3.9.5",
   "mimetype": "text/x-python",
   "codemirror_mode": {
    "name": "ipython",
    "version": 3
   },
   "pygments_lexer": "ipython3",
   "nbconvert_exporter": "python",
   "file_extension": ".py"
  },
  "kernelspec": {
   "name": "python3",
   "display_name": "Python 3.9.5 64-bit"
  },
  "interpreter": {
   "hash": "e197510b8d2968ded35c42f05bbf144eb372c4745fd39318f865b70b169c91af"
  }
 },
 "nbformat": 4,
 "nbformat_minor": 2
}